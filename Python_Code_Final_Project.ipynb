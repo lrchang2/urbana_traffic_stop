{
 "cells": [
  {
   "cell_type": "code",
   "execution_count": 1,
   "metadata": {},
   "outputs": [],
   "source": [
    "import pandas as pd\n",
    "import csv\n",
    "import numpy as np\n",
    "from pandas.api.types import is_numeric_dtype"
   ]
  },
  {
   "cell_type": "code",
   "execution_count": 3,
   "metadata": {},
   "outputs": [
    {
     "data": {
      "text/plain": [
       "['Speeding',\n",
       " 'Electronic Communication',\n",
       " 'Traffic Sign/Signal',\n",
       " 'Uninsured',\n",
       " 'Equipment (lights)',\n",
       " 'Drivers Licence Violations',\n",
       " 'Registration Violations',\n",
       " 'DUI',\n",
       " 'Drugs',\n",
       " 'Weapons',\n",
       " 'Warrant',\n",
       " 'Seat Belts/Car Seats',\n",
       " 'Moving Violations',\n",
       " 'Noise-related',\n",
       " 'Other IVC',\n",
       " 'Other non-IVC']"
      ]
     },
     "execution_count": 3,
     "metadata": {},
     "output_type": "execute_result"
    }
   ],
   "source": [
    "#get data from csv files \n",
    "trafficStops=pd.read_csv(\"/Users/Lucy/Desktop/Cleaned_Urbana_Police_Traffic_Stops.csv\")\n",
    "sixteenCategories=pd.read_csv(\"/Users/Lucy/Desktop/data cleaning/sixteen_cat_crime.csv\")\n",
    "categoryHead=sixteenCategories.columns.values.tolist()\n",
    "#categoryHead"
   ]
  },
  {
   "cell_type": "code",
   "execution_count": 4,
   "metadata": {},
   "outputs": [],
   "source": [
    "for category in categoryHead:\n",
    "    trafficStops[category]=0\n",
    "#trafficStops"
   ]
  },
  {
   "cell_type": "code",
   "execution_count": null,
   "metadata": {},
   "outputs": [],
   "source": [
    "r = open('trans_16.csv','r', encoding='utf-8-sig')\n",
    "reader=csv.reader(r)\n",
    "diction={}\n",
    "for row in reader:\n",
    "    diction[row[0]]={row[1], row[2], row[3], row[4], row[5],\n",
    "                   row[6], row[7], row[8], row[9], row[10],\n",
    "                   row[11], row[12], row[13], row[14], row[15],\n",
    "                   row[16], row[17], row[18], row[19], row[20],\n",
    "                   row[21], row[22], row[23], row[24], row[25],row[26], row[27]}\n",
    "    \n",
    "#for head in traffic_stops.columns.values:\n",
    "    #for key in list(diction.keys()):\n",
    "        #if head == key:\n",
    "            #for value in diction[key]:\n",
    "                #for crime in traffic_stops[head]:\n",
    "                    #traffic_stops.loc[traffic_stops[head] == value, head] = 1\n",
    "                    #traffic_stops[head] = (traffic_stops[head] == value).astype(int)\n",
    "                    #if crime == value:\n",
    "                        #print(1)\n",
    "                        #traffic_stops[head].replace(crime, 1)\n",
    "                    #else:\n",
    "                        #print(0)\n",
    "                        #traffic_stops[i]==0\n",
    "                        #traffic_stops[head].replace(crime, 0)"
   ]
  },
  {
   "cell_type": "code",
   "execution_count": null,
   "metadata": {},
   "outputs": [
    {
     "name": "stdout",
     "output_type": "stream",
     "text": [
      "0\n"
     ]
    },
    {
     "name": "stderr",
     "output_type": "stream",
     "text": [
      "C:\\Users\\Lucy\\Anaconda3\\lib\\site-packages\\ipykernel_launcher.py:15: SettingWithCopyWarning: \n",
      "A value is trying to be set on a copy of a slice from a DataFrame\n",
      "\n",
      "See the caveats in the documentation: http://pandas.pydata.org/pandas-docs/stable/indexing.html#indexing-view-versus-copy\n",
      "  from ipykernel import kernelapp as app\n",
      "C:\\Users\\Lucy\\Anaconda3\\lib\\site-packages\\ipykernel_launcher.py:12: SettingWithCopyWarning: \n",
      "A value is trying to be set on a copy of a slice from a DataFrame\n",
      "\n",
      "See the caveats in the documentation: http://pandas.pydata.org/pandas-docs/stable/indexing.html#indexing-view-versus-copy\n",
      "  if sys.path[0] == '':\n"
     ]
    },
    {
     "name": "stdout",
     "output_type": "stream",
     "text": [
      "1000\n",
      "2000\n",
      "3000\n",
      "4000\n",
      "5000\n",
      "6000\n",
      "7000\n",
      "8000\n",
      "9000\n",
      "10000\n",
      "11000\n",
      "12000\n",
      "13000\n",
      "14000\n",
      "15000\n",
      "16000\n",
      "17000\n"
     ]
    }
   ],
   "source": [
    "CD = trafficStops[\"CRIME DESCRIPTION\"]\n",
    "#CD = CD[0:100]\n",
    "for i, c in enumerate(CD): \n",
    "    if i%1000 == 0: \n",
    "        print(str(i))\n",
    "    for d in sixteenCategories.columns:\n",
    "        col = sixteenCategories[d]\n",
    "        col = col[~pd.isnull(col)]\n",
    "        ind = np.where(col==c)[0]\n",
    "        if len(ind)>0: \n",
    "            cdName = d\n",
    "            trafficStops[cdName][i]=1\n",
    "        else:\n",
    "            cdName = d\n",
    "            trafficStops[cdName][i]=0"
   ]
  },
  {
   "cell_type": "code",
   "execution_count": null,
   "metadata": {},
   "outputs": [],
   "source": [
    "trafficStops"
   ]
  },
  {
   "cell_type": "code",
   "execution_count": null,
   "metadata": {},
   "outputs": [],
   "source": [
    "merged = (trafficStops.groupby(['DATE OF CONTACT','TIME OF CONTACT','INCIDENT NUMBER','RACE DESCRIPTION'], as_index=False)\n",
    "       .agg(lambda x: x.sum() if np.issubdtype(x.dtype, np.integer) else ','.join(x)))"
   ]
  },
  {
   "cell_type": "code",
   "execution_count": null,
   "metadata": {},
   "outputs": [],
   "source": [
    "results=[]\n",
    "for category in categoryHead:\n",
    "    for position,value in enumerate(merged[category]):\n",
    "        if position%1000 == 0: \n",
    "            print(str(position))\n",
    "        merged[category][position]=([x.strip() for x in value.split(',')])\n",
    "        merged[category][position] = max(merged[category][position])"
   ]
  },
  {
   "cell_type": "code",
   "execution_count": null,
   "metadata": {},
   "outputs": [],
   "source": [
    "merged.to_csv('final_cleaned_TrafficStops.csv', index=False)"
   ]
  }
 ],
 "metadata": {
  "kernelspec": {
   "display_name": "Python 3",
   "language": "python",
   "name": "python3"
  },
  "language_info": {
   "codemirror_mode": {
    "name": "ipython",
    "version": 3
   },
   "file_extension": ".py",
   "mimetype": "text/x-python",
   "name": "python",
   "nbconvert_exporter": "python",
   "pygments_lexer": "ipython3",
   "version": "3.7.3"
  }
 },
 "nbformat": 4,
 "nbformat_minor": 2
}
